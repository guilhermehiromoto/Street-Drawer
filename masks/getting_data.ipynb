{
 "cells": [
  {
   "cell_type": "code",
   "execution_count": 1,
   "metadata": {},
   "outputs": [],
   "source": [
    "import urllib.request\n",
    "from bs4 import BeautifulSoup\n",
    "import re\n",
    "\n",
    "\n",
    "with urllib.request.urlopen(\"https://www.cs.toronto.edu/~vmnih/data/mass_roads/train/map/index.html\") as url:\n",
    "    htmlpage = url.read()\n",
    "\n",
    "soup = BeautifulSoup(htmlpage, 'html.parser')\n",
    "links = []\n",
    "i = 0\n",
    "for link in soup.find_all(attrs={'href': re.compile(\"http\")}):\n",
    "    urllib.request.urlretrieve(link.get('href'), \"0\"+str(i)+\".tif\")\n",
    "    i += 1\n",
    "    if (i==100):\n",
    "        break"
   ]
  },
  {
   "cell_type": "code",
   "execution_count": null,
   "metadata": {},
   "outputs": [],
   "source": []
  }
 ],
 "metadata": {
  "kernelspec": {
   "display_name": "Python 3",
   "language": "python",
   "name": "python3"
  },
  "language_info": {
   "codemirror_mode": {
    "name": "ipython",
    "version": 3
   },
   "file_extension": ".py",
   "mimetype": "text/x-python",
   "name": "python",
   "nbconvert_exporter": "python",
   "pygments_lexer": "ipython3",
   "version": "3.7.7"
  }
 },
 "nbformat": 4,
 "nbformat_minor": 4
}
